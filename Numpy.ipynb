{
 "cells": [
  {
   "cell_type": "code",
   "execution_count": 24,
   "id": "4f9cbbcb",
   "metadata": {},
   "outputs": [],
   "source": [
    "import numpy as np\n",
    "import matplotlib.pyplot as plt"
   ]
  },
  {
   "cell_type": "markdown",
   "id": "e5e03c6a",
   "metadata": {},
   "source": [
    "## Creating arrays"
   ]
  },
  {
   "cell_type": "code",
   "execution_count": 7,
   "id": "558f23b9",
   "metadata": {},
   "outputs": [
    {
     "name": "stdout",
     "output_type": "stream",
     "text": [
      "[ 2  4  6  8 10 12 14 16 18 20 22 24 26 28 30 32 34 36 38 40 42 44 46 48\n",
      " 50 52 54 56 58 60 62 64 66 68 70 72 74 76 78 80 82 84 86 88 90 92 94 96\n",
      " 98]\n"
     ]
    }
   ],
   "source": [
    "a1 = np.array([1,5,3,6])\n",
    "a2 = np.zeros(10) # creating array filled with 0 values\n",
    "a3  = np.ones(10) # creating array filled with 1 values\n",
    "a4  = np.random.random(10) # creating array with random values between 0 and 1\n",
    "a5  = np.random.randn(10) # creating array with random following a normal distribution (mean=0, sd=1)\n",
    "a6 = np.linspace(0,np.pi,1000) # creating array with with 1000 values equally spaced comprised between 0 and pi\n",
    "a7  = np.arange(2,100,2) # creating array with values between 2 and 100 with a step of 2\n",
    "\n",
    "print(a7)"
   ]
  },
  {
   "cell_type": "markdown",
   "id": "969b646d",
   "metadata": {},
   "source": [
    "## Array operations"
   ]
  },
  {
   "cell_type": "code",
   "execution_count": 20,
   "id": "985b01f2",
   "metadata": {},
   "outputs": [
    {
     "data": {
      "text/plain": [
       "array([ 2, 10,  6, 12])"
      ]
     },
     "execution_count": 20,
     "metadata": {},
     "output_type": "execute_result"
    }
   ],
   "source": [
    "2*a1"
   ]
  },
  {
   "cell_type": "code",
   "execution_count": 21,
   "id": "77cf0e1d",
   "metadata": {},
   "outputs": [
    {
     "data": {
      "text/plain": [
       "array([3.        , 2.2       , 2.33333333, 2.16666667])"
      ]
     },
     "execution_count": 21,
     "metadata": {},
     "output_type": "execute_result"
    }
   ],
   "source": [
    "1/a1 + 2"
   ]
  },
  {
   "cell_type": "code",
   "execution_count": 22,
   "id": "d7509c23",
   "metadata": {},
   "outputs": [
    {
     "data": {
      "text/plain": [
       "array([False,  True, False,  True])"
      ]
     },
     "execution_count": 22,
     "metadata": {},
     "output_type": "execute_result"
    }
   ],
   "source": [
    "a1>4"
   ]
  },
  {
   "cell_type": "code",
   "execution_count": 23,
   "id": "45f44732",
   "metadata": {},
   "outputs": [
    {
     "data": {
      "text/plain": [
       "array([5, 6])"
      ]
     },
     "execution_count": 23,
     "metadata": {},
     "output_type": "execute_result"
    }
   ],
   "source": [
    "a1[a1>4]"
   ]
  },
  {
   "cell_type": "code",
   "execution_count": 25,
   "id": "61cba25e",
   "metadata": {},
   "outputs": [
    {
     "data": {
      "text/plain": [
       "[<matplotlib.lines.Line2D at 0x2a7830e01c0>]"
      ]
     },
     "execution_count": 25,
     "metadata": {},
     "output_type": "execute_result"
    },
    {
     "data": {
      "image/png": "[encoded data removed]",
      "text/plain": [
       "<Figure size 432x288 with 1 Axes>"
      ]
     },
     "metadata": {
      "needs_background": "light"
     },
     "output_type": "display_data"
    }
   ],
   "source": [
    "x = np.linspace(0,1,100)\n",
    "y = x**2\n",
    "plt.plot(x,y)"
   ]
  },
  {
   "cell_type": "code",
   "execution_count": 26,
   "id": "7899cdd4",
   "metadata": {},
   "outputs": [
    {
     "data": {
      "text/plain": [
       "(array([1., 1., 1., 0., 2., 1., 3., 0., 0., 1.]),\n",
       " array([0.03990936, 0.13156544, 0.22322152, 0.3148776 , 0.40653368,\n",
       "        0.49818976, 0.58984584, 0.68150192, 0.773158  , 0.86481408,\n",
       "        0.95647016]),\n",
       " <BarContainer object of 10 artists>)"
      ]
     },
     "execution_count": 26,
     "metadata": {},
     "output_type": "execute_result"
    },
    {
     "data": {
      "image/png": "[encoded data removed]",
      "text/plain": [
       "<Figure size 432x288 with 1 Axes>"
      ]
     },
     "metadata": {
      "needs_background": "light"
     },
     "output_type": "display_data"
    }
   ],
   "source": [
    "plt.hist(a4)"
   ]
  },
  {
   "cell_type": "code",
   "execution_count": 28,
   "id": "2e329eb8",
   "metadata": {},
   "outputs": [
    {
     "data": {
      "text/plain": [
       "[<matplotlib.lines.Line2D at 0x2a78321e910>]"
      ]
     },
     "execution_count": 28,
     "metadata": {},
     "output_type": "execute_result"
    },
    {
     "data": {
      "image/png": "[encoded data removed]",
      "text/plain": [
       "<Figure size 432x288 with 1 Axes>"
      ]
     },
     "metadata": {
      "needs_background": "light"
     },
     "output_type": "display_data"
    }
   ],
   "source": [
    "def f(x):\n",
    "    return x**2 * np.sin(x)/np.exp(-x)\n",
    "x = np.linspace(0,10,100)\n",
    "y = f(x)\n",
    "plt.plot(x,y)"
   ]
  },
  {
   "cell_type": "markdown",
   "id": "b5ff8eac",
   "metadata": {},
   "source": [
    "List of many mathematical functions here:\n",
    "[](https:numpy.org/doc/stable/reference/routines.math.html)"
   ]
  },
  {
   "cell_type": "markdown",
   "id": "4395b7bd",
   "metadata": {},
   "source": [
    "[https:numpy.org/doc/stable/reference/routines.math.html](https:numpy.org/doc/stable/reference/routines.math.html)"
   ]
  },
  {
   "cell_type": "markdown",
   "id": "439aef7c",
   "metadata": {},
   "source": [
    "## Indexing and Slicing"
   ]
  },
  {
   "cell_type": "code",
   "execution_count": 33,
   "id": "0d40278b",
   "metadata": {},
   "outputs": [],
   "source": [
    "x = np.array([2,4,6,8,10])"
   ]
  },
  {
   "cell_type": "code",
   "execution_count": 34,
   "id": "d81501ee",
   "metadata": {},
   "outputs": [
    {
     "data": {
      "text/plain": [
       "6"
      ]
     },
     "execution_count": 34,
     "metadata": {},
     "output_type": "execute_result"
    }
   ],
   "source": [
    "x[2]"
   ]
  },
  {
   "cell_type": "code",
   "execution_count": 35,
   "id": "eb761466",
   "metadata": {},
   "outputs": [
    {
     "data": {
      "text/plain": [
       "array([ 6,  8, 10])"
      ]
     },
     "execution_count": 35,
     "metadata": {},
     "output_type": "execute_result"
    }
   ],
   "source": [
    "x[2:] #all elements from index 2"
   ]
  },
  {
   "cell_type": "code",
   "execution_count": 36,
   "id": "9a1ab6ea",
   "metadata": {},
   "outputs": [
    {
     "data": {
      "text/plain": [
       "array([2, 4, 6])"
      ]
     },
     "execution_count": 36,
     "metadata": {},
     "output_type": "execute_result"
    }
   ],
   "source": [
    "x[:-2] #all elements except the two last"
   ]
  },
  {
   "cell_type": "code",
   "execution_count": 37,
   "id": "6eec5974",
   "metadata": {},
   "outputs": [
    {
     "data": {
      "text/plain": [
       "array([4, 6])"
      ]
     },
     "execution_count": 37,
     "metadata": {},
     "output_type": "execute_result"
    }
   ],
   "source": [
    "x[1:-2]"
   ]
  },
  {
   "cell_type": "code",
   "execution_count": 38,
   "id": "984bc011",
   "metadata": {},
   "outputs": [
    {
     "data": {
      "text/plain": [
       "array([False,  True,  True,  True,  True])"
      ]
     },
     "execution_count": 38,
     "metadata": {},
     "output_type": "execute_result"
    }
   ],
   "source": [
    "x>3"
   ]
  },
  {
   "cell_type": "code",
   "execution_count": 39,
   "id": "b8cd174f",
   "metadata": {},
   "outputs": [
    {
     "data": {
      "text/plain": [
       "array([ 4,  6,  8, 10])"
      ]
     },
     "execution_count": 39,
     "metadata": {},
     "output_type": "execute_result"
    }
   ],
   "source": [
    "x[x>3]"
   ]
  },
  {
   "cell_type": "code",
   "execution_count": 45,
   "id": "0d5a043e",
   "metadata": {},
   "outputs": [
    {
     "data": {
      "text/plain": [
       "array(['Jim', 'Luke', 'Josh', 'Penda'], dtype='<U5')"
      ]
     },
     "execution_count": 45,
     "metadata": {},
     "output_type": "execute_result"
    }
   ],
   "source": [
    "names = np.array(['Jim','Luke','Josh','Penda'])\n",
    "names"
   ]
  },
  {
   "cell_type": "code",
   "execution_count": 46,
   "id": "02d62e17",
   "metadata": {},
   "outputs": [
    {
     "data": {
      "text/plain": [
       "array(['J', 'L', 'J', 'P'], dtype='<U1')"
      ]
     },
     "execution_count": 46,
     "metadata": {},
     "output_type": "execute_result"
    }
   ],
   "source": [
    "np.vectorize(lambda s:s[0])(names)"
   ]
  },
  {
   "cell_type": "code",
   "execution_count": 47,
   "id": "461b68be",
   "metadata": {},
   "outputs": [],
   "source": [
    "first_letter_j = np.vectorize(lambda s:s[0])(names)=='J'"
   ]
  },
  {
   "cell_type": "code",
   "execution_count": 48,
   "id": "1fcbac46",
   "metadata": {},
   "outputs": [
    {
     "data": {
      "text/plain": [
       "array(['Jim', 'Josh'], dtype='<U5')"
      ]
     },
     "execution_count": 48,
     "metadata": {},
     "output_type": "execute_result"
    }
   ],
   "source": [
    "#Return names whose first letter are J\n",
    "names[first_letter_j]"
   ]
  },
  {
   "cell_type": "code",
   "execution_count": 50,
   "id": "2eee5ba9",
   "metadata": {},
   "outputs": [
    {
     "data": {
      "text/plain": [
       "array([2, 0, 2, 0, 2], dtype=int32)"
      ]
     },
     "execution_count": 50,
     "metadata": {},
     "output_type": "execute_result"
    }
   ],
   "source": [
    "x[x%4==0]"
   ]
  },
  {
   "cell_type": "markdown",
   "id": "5d51b98d",
   "metadata": {},
   "source": [
    "## Calculus / Statistical Functions"
   ]
  },
  {
   "cell_type": "code",
   "execution_count": 56,
   "id": "a0aab3b6",
   "metadata": {},
   "outputs": [],
   "source": [
    "a = 2 * np.random.randn(1000) + 1\n"
   ]
  },
  {
   "cell_type": "markdown",
   "id": "1ae74b90",
   "metadata": {},
   "source": [
    "* Mean, standard deviation and percentiles of arrays"
   ]
  },
  {
   "cell_type": "code",
   "execution_count": 58,
   "id": "541b2b12",
   "metadata": {},
   "outputs": [
    {
     "data": {
      "text/plain": [
       "1.042173617057481"
      ]
     },
     "execution_count": 58,
     "metadata": {},
     "output_type": "execute_result"
    }
   ],
   "source": [
    "#mean\n",
    "np.mean(a)"
   ]
  },
  {
   "cell_type": "code",
   "execution_count": 57,
   "id": "d5634ebe",
   "metadata": {},
   "outputs": [
    {
     "data": {
      "text/plain": [
       "1.9876838033246158"
      ]
     },
     "execution_count": 57,
     "metadata": {},
     "output_type": "execute_result"
    }
   ],
   "source": [
    "#sd\n",
    "np.std(a)"
   ]
  },
  {
   "cell_type": "code",
   "execution_count": 60,
   "id": "a03a8a98",
   "metadata": {},
   "outputs": [
    {
     "data": {
      "text/plain": [
       "2.687200127476022"
      ]
     },
     "execution_count": 60,
     "metadata": {},
     "output_type": "execute_result"
    }
   ],
   "source": [
    "# This gives the number such that 80% of values are less than that number\n",
    "np.percentile(a,80)"
   ]
  },
  {
   "cell_type": "markdown",
   "id": "1f9f66b6",
   "metadata": {},
   "source": [
    "* Integrals and derivatives"
   ]
  },
  {
   "cell_type": "code",
   "execution_count": 70,
   "id": "9fe531d4",
   "metadata": {},
   "outputs": [],
   "source": [
    "x = np.linspace(1,10,100)\n",
    "y = 1/x**2 * np.sin(x)"
   ]
  },
  {
   "cell_type": "code",
   "execution_count": 75,
   "id": "d68e53c0",
   "metadata": {},
   "outputs": [],
   "source": [
    "# Compute the gradient with respect to x\n",
    "dydx = np.gradient(y,x)"
   ]
  },
  {
   "cell_type": "code",
   "execution_count": 76,
   "id": "eccb1037",
   "metadata": {},
   "outputs": [
    {
     "data": {
      "text/plain": [
       "array([ 1,  3,  6, 10], dtype=int32)"
      ]
     },
     "execution_count": 76,
     "metadata": {},
     "output_type": "execute_result"
    }
   ],
   "source": [
    "np.cumsum([1,2,3,4])"
   ]
  },
  {
   "cell_type": "code",
   "execution_count": 77,
   "id": "19036426",
   "metadata": {},
   "outputs": [],
   "source": [
    "# Integral\n",
    "y_int = np.cumsum(y) * (x[1]-x[0])"
   ]
  },
  {
   "cell_type": "code",
   "execution_count": 78,
   "id": "3742e9d6",
   "metadata": {},
   "outputs": [
    {
     "data": {
      "text/plain": [
       "[<matplotlib.lines.Line2D at 0x2a7841d1a30>]"
      ]
     },
     "execution_count": 78,
     "metadata": {},
     "output_type": "execute_result"
    },
    {
     "data": {
      "image/png": "[encoded data removed]",
      "text/plain": [
       "<Figure size 432x288 with 1 Axes>"
      ]
     },
     "metadata": {
      "needs_background": "light"
     },
     "output_type": "display_data"
    }
   ],
   "source": [
    "plt.plot(x,y)\n",
    "plt.plot(x,dydx)\n",
    "plt.plot(x,y_int)"
   ]
  },
  {
   "cell_type": "markdown",
   "id": "d3beecf2",
   "metadata": {},
   "source": [
    "## Examples\n",
    "\n",
    "**Question 1**\n",
    "\n",
    "Let $y = e^{\\frac{-x}{10}} \\sin(x)$. Consider 1000 $x$ intervals in the range [0,10]\n",
    "\n",
    "1. Plot the function $y$ vs. $x$ in the range [0,10]\n",
    "2. Compute the mean and the standard deviation of $y$ for $x$ in [4,7]\n",
    "3. For $x$ in the range [4,7], find the value $y_m$ such that 80% of $y$ values are less than $y_m$ \n",
    "4. Plot $dy/dx$ vs $x$\n",
    "5. Find the locations where $dy/dx$ = 0"
   ]
  },
  {
   "cell_type": "code",
   "execution_count": 86,
   "id": "0dc7ecd5",
   "metadata": {},
   "outputs": [],
   "source": [
    "x = np.linspace(0,10,1000)\n",
    "y = np.exp(-x/10) * np.sin(x)"
   ]
  },
  {
   "cell_type": "code",
   "execution_count": 87,
   "id": "09fffb5f",
   "metadata": {},
   "outputs": [
    {
     "data": {
      "text/plain": [
       "[<matplotlib.lines.Line2D at 0x2a78409aa60>]"
      ]
     },
     "execution_count": 87,
     "metadata": {},
     "output_type": "execute_result"
    },
    {
     "data": {
      "image/png": "[encoded data removed]",
      "text/plain": [
       "<Figure size 432x288 with 1 Axes>"
      ]
     },
     "metadata": {
      "needs_background": "light"
     },
     "output_type": "display_data"
    }
   ],
   "source": [
    "#1\n",
    "plt.plot(x,y)"
   ]
  },
  {
   "cell_type": "code",
   "execution_count": 105,
   "id": "e5973d16",
   "metadata": {},
   "outputs": [
    {
     "name": "stdout",
     "output_type": "stream",
     "text": [
      "-0.2953273365176934\n",
      "0.3147016786225509\n"
     ]
    }
   ],
   "source": [
    "#2\n",
    "\n",
    "#mean\n",
    "mean = np.mean(y[(x>=4)&(x<=7)])\n",
    "print(mean)\n",
    "\n",
    "#sd\n",
    "sd = np.std(y[(x>=4)&(x<=7)])\n",
    "print(sd)"
   ]
  },
  {
   "cell_type": "code",
   "execution_count": 106,
   "id": "5c022b11",
   "metadata": {},
   "outputs": [
    {
     "data": {
      "text/plain": [
       "0.060625057602350874"
      ]
     },
     "execution_count": 106,
     "metadata": {},
     "output_type": "execute_result"
    }
   ],
   "source": [
    "#3\n",
    "np.percentile(y[(x>=4)&(x<=7)],80)"
   ]
  },
  {
   "cell_type": "code",
   "execution_count": 102,
   "id": "d4aa0060",
   "metadata": {},
   "outputs": [
    {
     "data": {
      "text/plain": [
       "[<matplotlib.lines.Line2D at 0x2a78479b6a0>]"
      ]
     },
     "execution_count": 102,
     "metadata": {},
     "output_type": "execute_result"
    },
    {
     "data": {
      "image/png": "[encoded data removed]",
      "text/plain": [
       "<Figure size 432x288 with 1 Axes>"
      ]
     },
     "metadata": {
      "needs_background": "light"
     },
     "output_type": "display_data"
    }
   ],
   "source": [
    "#4\n",
    "dydx = np.gradient(y,x)\n",
    "plt.plot(x, dydx)"
   ]
  },
  {
   "cell_type": "code",
   "execution_count": 124,
   "id": "0614a3cf",
   "metadata": {},
   "outputs": [
    {
     "data": {
      "text/plain": [
       "array([1.47147147, 4.61461461, 7.75775776])"
      ]
     },
     "execution_count": 124,
     "metadata": {},
     "output_type": "execute_result"
    }
   ],
   "source": [
    "#5\n",
    "#x[np.cumproduct(dydx)<0]\n",
    "x[1:][dydx[1:]*dydx[:-1]<0] # x[1]*x[0], x[2]*x[1] so on and so for"
   ]
  },
  {
   "cell_type": "code",
   "execution_count": null,
   "id": "2d03f521",
   "metadata": {},
   "outputs": [],
   "source": []
  },
  {
   "cell_type": "code",
   "execution_count": null,
   "id": "95ca85a9",
   "metadata": {},
   "outputs": [],
   "source": []
  }
 ],
 "metadata": {
  "kernelspec": {
   "display_name": "Python 3 (ipykernel)",
   "language": "python",
   "name": "python3"
  },
  "language_info": {
   "codemirror_mode": {
    "name": "ipython",
    "version": 3
   },
   "file_extension": ".py",
   "mimetype": "text/x-python",
   "name": "python",
   "nbconvert_exporter": "python",
   "pygments_lexer": "ipython3",
   "version": "3.8.2"
  }
 },
 "nbformat": 4,
 "nbformat_minor": 5
}
