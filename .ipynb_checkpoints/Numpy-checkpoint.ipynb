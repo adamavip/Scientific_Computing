{
 "cells": [
  {
   "cell_type": "code",
   "execution_count": 24,
   "id": "4f9cbbcb",
   "metadata": {},
   "outputs": [],
   "source": [
    "import numpy as np\n",
    "import matplotlib.pyplot as plt"
   ]
  },
  {
   "cell_type": "markdown",
   "id": "e5e03c6a",
   "metadata": {},
   "source": [
    "## Creating arrays"
   ]
  },
  {
   "cell_type": "code",
   "execution_count": 7,
   "id": "558f23b9",
   "metadata": {},
   "outputs": [
    {
     "name": "stdout",
     "output_type": "stream",
     "text": [
      "[ 2  4  6  8 10 12 14 16 18 20 22 24 26 28 30 32 34 36 38 40 42 44 46 48\n",
      " 50 52 54 56 58 60 62 64 66 68 70 72 74 76 78 80 82 84 86 88 90 92 94 96\n",
      " 98]\n"
     ]
    }
   ],
   "source": [
    "a1 = np.array([1,5,3,6])\n",
    "a2 = np.zeros(10) # creating array filled with 0 values\n",
    "a3  = np.ones(10) # creating array filled with 1 values\n",
    "a4  = np.random.random(10) # creating array with random values between 0 and 1\n",
    "a5  = np.random.randn(10) # creating array with random following a normal distribution (mean=0, sd=1)\n",
    "a6 = np.linspace(0,np.pi,1000) # creating array with with 1000 values equally spaced comprised between 0 and pi\n",
    "a7  = np.arange(2,100,2) # creating array with values between 2 and 100 with a step of 2\n",
    "\n",
    "print(a7)"
   ]
  },
  {
   "cell_type": "markdown",
   "id": "969b646d",
   "metadata": {},
   "source": [
    "## Array operations"
   ]
  },
  {
   "cell_type": "code",
   "execution_count": 20,
   "id": "985b01f2",
   "metadata": {},
   "outputs": [
    {
     "data": {
      "text/plain": [
       "array([ 2, 10,  6, 12])"
      ]
     },
     "execution_count": 20,
     "metadata": {},
     "output_type": "execute_result"
    }
   ],
   "source": [
    "2*a1"
   ]
  },
  {
   "cell_type": "code",
   "execution_count": 21,
   "id": "822cfdc4",
   "metadata": {},
   "outputs": [
    {
     "data": {
      "text/plain": [
       "array([3.        , 2.2       , 2.33333333, 2.16666667])"
      ]
     },
     "execution_count": 21,
     "metadata": {},
     "output_type": "execute_result"
    }
   ],
   "source": [
    "1/a1 + 2"
   ]
  },
  {
   "cell_type": "code",
   "execution_count": 22,
   "id": "47d147d0",
   "metadata": {},
   "outputs": [
    {
     "data": {
      "text/plain": [
       "array([False,  True, False,  True])"
      ]
     },
     "execution_count": 22,
     "metadata": {},
     "output_type": "execute_result"
    }
   ],
   "source": [
    "a1>4"
   ]
  },
  {
   "cell_type": "code",
   "execution_count": 23,
   "id": "b62de149",
   "metadata": {},
   "outputs": [
    {
     "data": {
      "text/plain": [
       "array([5, 6])"
      ]
     },
     "execution_count": 23,
     "metadata": {},
     "output_type": "execute_result"
    }
   ],
   "source": [
    "a1[a1>4]"
   ]
  },
  {
   "cell_type": "code",
   "execution_count": 25,
   "id": "a2027670",
   "metadata": {},
   "outputs": [
    {
     "data": {
      "text/plain": [
       "[<matplotlib.lines.Line2D at 0x2a7830e01c0>]"
      ]
     },
     "execution_count": 25,
     "metadata": {},
     "output_type": "execute_result"
    },
    {
     "data": {
      "image/png": "[encoded data removed]",
      "text/plain": [
       "<Figure size 432x288 with 1 Axes>"
      ]
     },
     "metadata": {
      "needs_background": "light"
     },
     "output_type": "display_data"
    }
   ],
   "source": [
    "x = np.linspace(0,1,100)\n",
    "y = x**2\n",
    "plt.plot(x,y)"
   ]
  },
  {
   "cell_type": "code",
   "execution_count": 26,
   "id": "ccd0b56b",
   "metadata": {},
   "outputs": [
    {
     "data": {
      "text/plain": [
       "(array([1., 1., 1., 0., 2., 1., 3., 0., 0., 1.]),\n",
       " array([0.03990936, 0.13156544, 0.22322152, 0.3148776 , 0.40653368,\n",
       "        0.49818976, 0.58984584, 0.68150192, 0.773158  , 0.86481408,\n",
       "        0.95647016]),\n",
       " <BarContainer object of 10 artists>)"
      ]
     },
     "execution_count": 26,
     "metadata": {},
     "output_type": "execute_result"
    },
    {
     "data": {
      "image/png": "[encoded data removed]",
      "text/plain": [
       "<Figure size 432x288 with 1 Axes>"
      ]
     },
     "metadata": {
      "needs_background": "light"
     },
     "output_type": "display_data"
    }
   ],
   "source": [
    "plt.hist(a4)"
   ]
  },
  {
   "cell_type": "code",
   "execution_count": 28,
   "id": "f6148d04",
   "metadata": {},
   "outputs": [
    {
     "data": {
      "text/plain": [
       "[<matplotlib.lines.Line2D at 0x2a78321e910>]"
      ]
     },
     "execution_count": 28,
     "metadata": {},
     "output_type": "execute_result"
    },
    {
     "data": {
      "image/png": "[encoded data removed]",
      "text/plain": [
       "<Figure size 432x288 with 1 Axes>"
      ]
     },
     "metadata": {
      "needs_background": "light"
     },
     "output_type": "display_data"
    }
   ],
   "source": [
    "def f(x):\n",
    "    return x**2 * np.sin(x)/np.exp(-x)\n",
    "x = np.linspace(0,10,100)\n",
    "y = f(x)\n",
    "plt.plot(x,y)"
   ]
  },
  {
   "cell_type": "markdown",
   "id": "89b385fa",
   "metadata": {},
   "source": [
    "List of many mathematical functions here:\n",
    "[](https:numpy.org/doc/stable/reference/routines.math.html)"
   ]
  },
  {
   "cell_type": "markdown",
   "id": "6320aa48",
   "metadata": {},
   "source": [
    "[https:numpy.org/doc/stable/reference/routines.math.html](https:numpy.org/doc/stable/reference/routines.math.html)"
   ]
  },
  {
   "cell_type": "markdown",
   "id": "98f91932",
   "metadata": {},
   "source": [
    "## Indexing and Slicing"
   ]
  },
  {
   "cell_type": "code",
   "execution_count": 33,
   "id": "bd04d371",
   "metadata": {},
   "outputs": [],
   "source": [
    "x = np.array([2,4,6,8,10])"
   ]
  },
  {
   "cell_type": "code",
   "execution_count": 34,
   "id": "c065bb49",
   "metadata": {},
   "outputs": [
    {
     "data": {
      "text/plain": [
       "6"
      ]
     },
     "execution_count": 34,
     "metadata": {},
     "output_type": "execute_result"
    }
   ],
   "source": [
    "x[2]"
   ]
  },
  {
   "cell_type": "code",
   "execution_count": 35,
   "id": "4d0ffd03",
   "metadata": {},
   "outputs": [
    {
     "data": {
      "text/plain": [
       "array([ 6,  8, 10])"
      ]
     },
     "execution_count": 35,
     "metadata": {},
     "output_type": "execute_result"
    }
   ],
   "source": [
    "x[2:] #all elements from index 2"
   ]
  },
  {
   "cell_type": "code",
   "execution_count": 36,
   "id": "af4e4ecf",
   "metadata": {},
   "outputs": [
    {
     "data": {
      "text/plain": [
       "array([2, 4, 6])"
      ]
     },
     "execution_count": 36,
     "metadata": {},
     "output_type": "execute_result"
    }
   ],
   "source": [
    "x[:-2] #all elements except the two last"
   ]
  },
  {
   "cell_type": "code",
   "execution_count": 37,
   "id": "7659a563",
   "metadata": {},
   "outputs": [
    {
     "data": {
      "text/plain": [
       "array([4, 6])"
      ]
     },
     "execution_count": 37,
     "metadata": {},
     "output_type": "execute_result"
    }
   ],
   "source": [
    "x[1:-2]"
   ]
  },
  {
   "cell_type": "code",
   "execution_count": 38,
   "id": "8efad652",
   "metadata": {},
   "outputs": [
    {
     "data": {
      "text/plain": [
       "array([False,  True,  True,  True,  True])"
      ]
     },
     "execution_count": 38,
     "metadata": {},
     "output_type": "execute_result"
    }
   ],
   "source": [
    "x>3"
   ]
  },
  {
   "cell_type": "code",
   "execution_count": 39,
   "id": "783925e3",
   "metadata": {},
   "outputs": [
    {
     "data": {
      "text/plain": [
       "array([ 4,  6,  8, 10])"
      ]
     },
     "execution_count": 39,
     "metadata": {},
     "output_type": "execute_result"
    }
   ],
   "source": [
    "x[x>3]"
   ]
  },
  {
   "cell_type": "code",
   "execution_count": 45,
   "id": "7d519eda",
   "metadata": {},
   "outputs": [
    {
     "data": {
      "text/plain": [
       "array(['Jim', 'Luke', 'Josh', 'Penda'], dtype='<U5')"
      ]
     },
     "execution_count": 45,
     "metadata": {},
     "output_type": "execute_result"
    }
   ],
   "source": [
    "names = np.array(['Jim','Luke','Josh','Penda'])\n",
    "names"
   ]
  },
  {
   "cell_type": "code",
   "execution_count": 46,
   "id": "187490ec",
   "metadata": {},
   "outputs": [
    {
     "data": {
      "text/plain": [
       "array(['J', 'L', 'J', 'P'], dtype='<U1')"
      ]
     },
     "execution_count": 46,
     "metadata": {},
     "output_type": "execute_result"
    }
   ],
   "source": [
    "np.vectorize(lambda s:s[0])(names)"
   ]
  },
  {
   "cell_type": "code",
   "execution_count": 47,
   "id": "86dfff0c",
   "metadata": {},
   "outputs": [],
   "source": [
    "first_letter_j = np.vectorize(lambda s:s[0])(names)=='J'"
   ]
  },
  {
   "cell_type": "code",
   "execution_count": 48,
   "id": "091ed371",
   "metadata": {},
   "outputs": [
    {
     "data": {
      "text/plain": [
       "array(['Jim', 'Josh'], dtype='<U5')"
      ]
     },
     "execution_count": 48,
     "metadata": {},
     "output_type": "execute_result"
    }
   ],
   "source": [
    "#Return names whose first letter are J\n",
    "names[first_letter_j]"
   ]
  },
  {
   "cell_type": "code",
   "execution_count": 50,
   "id": "4cb64dc4",
   "metadata": {},
   "outputs": [
    {
     "data": {
      "text/plain": [
       "array([2, 0, 2, 0, 2], dtype=int32)"
      ]
     },
     "execution_count": 50,
     "metadata": {},
     "output_type": "execute_result"
    }
   ],
   "source": [
    "x[x%4==0]"
   ]
  },
  {
   "cell_type": "markdown",
   "id": "95bb26e9",
   "metadata": {},
   "source": [
    "## Calculus / Statistical Functions"
   ]
  },
  {
   "cell_type": "code",
   "execution_count": 56,
   "id": "1e11c8db",
   "metadata": {},
   "outputs": [],
   "source": [
    "a = 2 * np.random.randn(1000) + 1\n"
   ]
  },
  {
   "cell_type": "markdown",
   "id": "e79cc4c0",
   "metadata": {},
   "source": [
    "* Mean, standard deviation and percentiles of arrays"
   ]
  },
  {
   "cell_type": "code",
   "execution_count": 58,
   "id": "696b6eba",
   "metadata": {},
   "outputs": [
    {
     "data": {
      "text/plain": [
       "1.042173617057481"
      ]
     },
     "execution_count": 58,
     "metadata": {},
     "output_type": "execute_result"
    }
   ],
   "source": [
    "#mean\n",
    "np.mean(a)"
   ]
  },
  {
   "cell_type": "code",
   "execution_count": 57,
   "id": "39ef6e46",
   "metadata": {},
   "outputs": [
    {
     "data": {
      "text/plain": [
       "1.9876838033246158"
      ]
     },
     "execution_count": 57,
     "metadata": {},
     "output_type": "execute_result"
    }
   ],
   "source": [
    "#sd\n",
    "np.std(a)"
   ]
  },
  {
   "cell_type": "code",
   "execution_count": 60,
   "id": "f657c04e",
   "metadata": {},
   "outputs": [
    {
     "data": {
      "text/plain": [
       "2.687200127476022"
      ]
     },
     "execution_count": 60,
     "metadata": {},
     "output_type": "execute_result"
    }
   ],
   "source": [
    "# This gives the number such that 80% of values are less than that number\n",
    "np.percentile(a,80)"
   ]
  },
  {
   "cell_type": "markdown",
   "id": "bc990fa4",
   "metadata": {},
   "source": [
    "* Integrals and derivatives"
   ]
  },
  {
   "cell_type": "code",
   "execution_count": 70,
   "id": "eb690fb2",
   "metadata": {},
   "outputs": [],
   "source": [
    "x = np.linspace(1,10,100)\n",
    "y = 1/x**2 * np.sin(x)"
   ]
  },
  {
   "cell_type": "code",
   "execution_count": 75,
   "id": "bc059429",
   "metadata": {},
   "outputs": [],
   "source": [
    "# Compute the gradient with respect to x\n",
    "dydx = np.gradient(y,x)"
   ]
  },
  {
   "cell_type": "code",
   "execution_count": 76,
   "id": "1da0f1ec",
   "metadata": {},
   "outputs": [
    {
     "data": {
      "text/plain": [
       "array([ 1,  3,  6, 10], dtype=int32)"
      ]
     },
     "execution_count": 76,
     "metadata": {},
     "output_type": "execute_result"
    }
   ],
   "source": [
    "np.cumsum([1,2,3,4])"
   ]
  },
  {
   "cell_type": "code",
   "execution_count": 77,
   "id": "d09df81f",
   "metadata": {},
   "outputs": [],
   "source": [
    "# Integral\n",
    "y_int = np.cumsum(y) * (x[1]-x[0])"
   ]
  },
  {
   "cell_type": "code",
   "execution_count": 78,
   "id": "12767d6c",
   "metadata": {},
   "outputs": [
    {
     "data": {
      "text/plain": [
       "[<matplotlib.lines.Line2D at 0x2a7841d1a30>]"
      ]
     },
     "execution_count": 78,
     "metadata": {},
     "output_type": "execute_result"
    },
    {
     "data": {
      "image/png": "[encoded data removed]",
      "text/plain": [
       "<Figure size 432x288 with 1 Axes>"
      ]
     },
     "metadata": {
      "needs_background": "light"
     },
     "output_type": "display_data"
    }
   ],
   "source": [
    "plt.plot(x,y)\n",
    "plt.plot(x,dydx)\n",
    "plt.plot(x,y_int)"
   ]
  },
  {
   "cell_type": "markdown",
   "id": "ae64b820",
   "metadata": {},
   "source": [
    "## Examples\n",
    "\n",
    "**Question 1**\n",
    "\n",
    "Let $y = e^{\\frac{-x}{10}} \\sin(x)$. Consider 1000 $x$ intervals in the range [0,10]\n",
    "\n",
    "1. Plot the function $y$ vs. $x$ in the range [0,10]\n",
    "2. Compute the mean and the standard deviation of $y$ for $x$ in [4,7]\n",
    "3. For $x$ in the range [4,7], find the value $y_m$ such that 80% of $y$ values are less than $y_m$ \n",
    "4. Plot $dy/dx$ vs $x$\n",
    "5. Find the locations where $dy/dx$ = 0"
   ]
  },
  {
   "cell_type": "code",
   "execution_count": 86,
   "id": "93e8a68e",
   "metadata": {},
   "outputs": [],
   "source": [
    "x = np.linspace(0,10,1000)\n",
    "y = np.exp(-x/10) * np.sin(x)"
   ]
  },
  {
   "cell_type": "code",
   "execution_count": 87,
   "id": "bcce9366",
   "metadata": {},
   "outputs": [
    {
     "data": {
      "text/plain": [
       "[<matplotlib.lines.Line2D at 0x2a78409aa60>]"
      ]
     },
     "execution_count": 87,
     "metadata": {},
     "output_type": "execute_result"
    },
    {
     "data": {
      "image/png": "[encoded data removed]",
      "text/plain": [
       "<Figure size 432x288 with 1 Axes>"
      ]
     },
     "metadata": {
      "needs_background": "light"
     },
     "output_type": "display_data"
    }
   ],
   "source": [
    "#1\n",
    "plt.plot(x,y)"
   ]
  },
  {
   "cell_type": "code",
   "execution_count": 105,
   "id": "84dae099",
   "metadata": {},
   "outputs": [
    {
     "name": "stdout",
     "output_type": "stream",
     "text": [
      "-0.2953273365176934\n",
      "0.3147016786225509\n"
     ]
    }
   ],
   "source": [
    "#2\n",
    "\n",
    "#mean\n",
    "mean = np.mean(y[(x>=4)&(x<=7)])\n",
    "print(mean)\n",
    "\n",
    "#sd\n",
    "sd = np.std(y[(x>=4)&(x<=7)])\n",
    "print(sd)"
   ]
  },
  {
   "cell_type": "code",
   "execution_count": 106,
   "id": "72d55cd2",
   "metadata": {},
   "outputs": [
    {
     "data": {
      "text/plain": [
       "0.060625057602350874"
      ]
     },
     "execution_count": 106,
     "metadata": {},
     "output_type": "execute_result"
    }
   ],
   "source": [
    "#3\n",
    "np.percentile(y[(x>=4)&(x<=7)],80)"
   ]
  },
  {
   "cell_type": "code",
   "execution_count": 102,
   "id": "998c76ce",
   "metadata": {},
   "outputs": [
    {
     "data": {
      "text/plain": [
       "[<matplotlib.lines.Line2D at 0x2a78479b6a0>]"
      ]
     },
     "execution_count": 102,
     "metadata": {},
     "output_type": "execute_result"
    },
    {
     "data": {
      "image/png": "[encoded data removed]",
      "text/plain": [
       "<Figure size 432x288 with 1 Axes>"
      ]
     },
     "metadata": {
      "needs_background": "light"
     },
     "output_type": "display_data"
    }
   ],
   "source": [
    "#4\n",
    "dydx = np.gradient(y,x)\n",
    "plt.plot(x, dydx)"
   ]
  },
  {
   "cell_type": "code",
   "execution_count": 124,
   "id": "53fe35cf",
   "metadata": {},
   "outputs": [
    {
     "data": {
      "text/plain": [
       "array([1.47147147, 4.61461461, 7.75775776])"
      ]
     },
     "execution_count": 124,
     "metadata": {},
     "output_type": "execute_result"
    }
   ],
   "source": [
    "#5\n",
    "#x[np.cumproduct(dydx)<0]\n",
    "x[1:][dydx[1:]*dydx[:-1]<0] # x[1]*x[0], x[2]*x[1] so on and so for"
   ]
  },
  {
   "cell_type": "markdown",
   "id": "47915ab4",
   "metadata": {},
   "source": [
    "**Question 2**\n",
    "\n",
    "Sum together every number from 0 to 1000 except for those that can be divided by 4 or 7. Do it in one line of code."
   ]
  },
  {
   "cell_type": "code",
   "execution_count": 147,
   "id": "19394dab",
   "metadata": {},
   "outputs": [],
   "source": [
    "t = np.arange(10001)"
   ]
  },
  {
   "cell_type": "code",
   "execution_count": 158,
   "id": "1f7101c6",
   "metadata": {},
   "outputs": [
    {
     "data": {
      "text/plain": [
       "32147142"
      ]
     },
     "execution_count": 158,
     "metadata": {},
     "output_type": "execute_result"
    }
   ],
   "source": [
    "np.sum(t[(t%4!=0) * (t%7!=0)]) #or np.sum(t[(t%4!=0) & (t%7!=0)])"
   ]
  },
  {
   "cell_type": "markdown",
   "id": "45bdc1a8",
   "metadata": {},
   "source": [
    "**Question 3** \n",
    "\n",
    "Consider the flower petal $r(\\theta) = 1 +\\frac{3}{4}\\sin(3\\theta) \\text{ for } 0\\le \\theta \\le 2\\pi$\n",
    "\n",
    "1. Make a plot of the flower (find x and y points).\n",
    "2. Compute the area using the calculus formula $A = \\int_0^{2\\pi}  \\frac{1}{2}r^2d\\theta$\n",
    "3. Compute the arclength using the calculus formula $L=\\int_0^{2\\pi} \\sqrt{r^2 + (\\frac{dr}{d\\theta})^2 d\\theta}$"
   ]
  },
  {
   "cell_type": "code",
   "execution_count": 165,
   "id": "afb0b33f",
   "metadata": {},
   "outputs": [
    {
     "data": {
      "text/plain": [
       "[<matplotlib.lines.Line2D at 0x2a7838e9fa0>]"
      ]
     },
     "execution_count": 165,
     "metadata": {},
     "output_type": "execute_result"
    },
    {
     "data": {
      "image/png": "[encoded data removed]",
      "text/plain": [
       "<Figure size 432x288 with 1 Axes>"
      ]
     },
     "metadata": {
      "needs_background": "light"
     },
     "output_type": "display_data"
    }
   ],
   "source": [
    "#1\n",
    "theta = np.linspace(0,2*np.pi,1000)\n",
    "r = 1 + 3/4 * np.sin(3*theta)\n",
    "x = r * np.cos(theta)\n",
    "y = r * np.sin(theta)\n",
    "plt.plot(x,y)"
   ]
  },
  {
   "cell_type": "code",
   "execution_count": 167,
   "id": "ce2c1602",
   "metadata": {},
   "outputs": [
    {
     "name": "stdout",
     "output_type": "stream",
     "text": [
      "4.028310324802903\n"
     ]
    }
   ],
   "source": [
    "#2\n",
    "\"\"\"def integrate(f,a,b,N):\n",
    "    fr = f(r)\n",
    "    intg = np.sum(fr) * (b-a)/N\n",
    "    return intg\n",
    "\n",
    "f = lambda r: 1/2 * r**2\n",
    "\n",
    "area = integrate(f,0,2*np.pi,1000)\n",
    "print(area)\"\"\"\n",
    "\n",
    "A = 1/2 * np.sum(r**2) * (theta[1]-theta[0])\n",
    "print(A)"
   ]
  },
  {
   "cell_type": "code",
   "execution_count": 169,
   "id": "b46b357e",
   "metadata": {},
   "outputs": [
    {
     "name": "stdout",
     "output_type": "stream",
     "text": [
      "11.640021569013864\n"
     ]
    }
   ],
   "source": [
    "#3\n",
    "L = np.sum(np.sqrt(r**2 + np.gradient(r,theta)**2 ) * (theta[1]-theta[0]))\n",
    "print(L)"
   ]
  },
  {
   "cell_type": "markdown",
   "id": "8dfa72f5",
   "metadata": {},
   "source": [
    "**Question 4**\n",
    "\n",
    "The power emitted by a blackbody is $P = A\\sigma cT^4$. After measuring the temperature of a star you find that $T(t) = T_0 \\frac{1}{1+e^{-kt}}$. Plot the total energy emitted by the star as a function of time using the fact that $E(t) = \\int_{t\\prime=0}^{t\\prime=t} P(t\\prime)dt\\prime$"
   ]
  },
  {
   "cell_type": "code",
   "execution_count": 171,
   "id": "ce596421",
   "metadata": {},
   "outputs": [
    {
     "data": {
      "text/plain": [
       "[<matplotlib.lines.Line2D at 0x2a783a69820>]"
      ]
     },
     "execution_count": 171,
     "metadata": {},
     "output_type": "execute_result"
    },
    {
     "data": {
      "image/png": "[encoded data removed]",
      "text/plain": [
       "<Figure size 432x288 with 1 Axes>"
      ]
     },
     "metadata": {
      "needs_background": "light"
     },
     "output_type": "display_data"
    }
   ],
   "source": [
    "t = np.arange(0,1000,1)\n",
    "T0 = 250\n",
    "k = 0.5\n",
    "T = T0 * (1/(1 + np.exp(-k*t)))\n",
    "plt.plot(t,T)"
   ]
  },
  {
   "cell_type": "markdown",
   "id": "ecfb0062",
   "metadata": {},
   "source": [
    "## Multi-Dimensional Arrays"
   ]
  },
  {
   "cell_type": "markdown",
   "id": "36d2658c",
   "metadata": {},
   "source": [
    "* Creating multi-dimensional arrays"
   ]
  },
  {
   "cell_type": "code",
   "execution_count": 173,
   "id": "e151be53",
   "metadata": {},
   "outputs": [
    {
     "data": {
      "text/plain": [
       "array([[4, 6, 4],\n",
       "       [1, 2, 3],\n",
       "       [4, 5, 6]])"
      ]
     },
     "execution_count": 173,
     "metadata": {},
     "output_type": "execute_result"
    }
   ],
   "source": [
    "a1 = np.array([[4,6,4],[1,2,3],[4,5,6]])\n",
    "a1"
   ]
  },
  {
   "cell_type": "code",
   "execution_count": 174,
   "id": "9751bee3",
   "metadata": {},
   "outputs": [
    {
     "data": {
      "text/plain": [
       "array([[ 8, 12,  8],\n",
       "       [ 2,  4,  6],\n",
       "       [ 8, 10, 12]])"
      ]
     },
     "execution_count": 174,
     "metadata": {},
     "output_type": "execute_result"
    }
   ],
   "source": [
    "a1*2"
   ]
  },
  {
   "cell_type": "markdown",
   "id": "f946e01e",
   "metadata": {},
   "source": [
    "* Operations work in a similar way"
   ]
  },
  {
   "cell_type": "code",
   "execution_count": 176,
   "id": "b553dc12",
   "metadata": {},
   "outputs": [
    {
     "data": {
      "text/plain": [
       "array([[0.5       , 0.33333333, 0.5       ],\n",
       "       [2.        , 1.        , 0.66666667],\n",
       "       [0.5       , 0.4       , 0.33333333]])"
      ]
     },
     "execution_count": 176,
     "metadata": {},
     "output_type": "execute_result"
    }
   ],
   "source": [
    "2/a1"
   ]
  },
  {
   "cell_type": "markdown",
   "id": "ac24f748",
   "metadata": {},
   "source": [
    "* Can turn any n-dimensional array to 1d array using `ravel()` method"
   ]
  },
  {
   "cell_type": "code",
   "execution_count": 177,
   "id": "ed2c9036",
   "metadata": {},
   "outputs": [
    {
     "data": {
      "text/plain": [
       "array([4, 6, 4, 1, 2, 3, 4, 5, 6])"
      ]
     },
     "execution_count": 177,
     "metadata": {},
     "output_type": "execute_result"
    }
   ],
   "source": [
    "a1.ravel()"
   ]
  },
  {
   "cell_type": "markdown",
   "id": "69b950ed",
   "metadata": {},
   "source": [
    "* Boolean indexing"
   ]
  },
  {
   "cell_type": "code",
   "execution_count": 181,
   "id": "37988339",
   "metadata": {},
   "outputs": [
    {
     "data": {
      "text/plain": [
       "array([[False,  True, False],\n",
       "       [False, False, False],\n",
       "       [False, False,  True]])"
      ]
     },
     "execution_count": 181,
     "metadata": {},
     "output_type": "execute_result"
    }
   ],
   "source": [
    "a1>5"
   ]
  },
  {
   "cell_type": "code",
   "execution_count": 183,
   "id": "2d13281e",
   "metadata": {},
   "outputs": [
    {
     "data": {
      "text/plain": [
       "array([[ 0.5965618 , -1.02926621,  0.80814401],\n",
       "       [ 0.96680215, -1.24910395,  0.10250886],\n",
       "       [ 1.32269407,  0.22883866,  0.82118761]])"
      ]
     },
     "execution_count": 183,
     "metadata": {},
     "output_type": "execute_result"
    }
   ],
   "source": [
    "a2 = np.random.randn(3,3)\n",
    "a2\n"
   ]
  },
  {
   "cell_type": "code",
   "execution_count": 184,
   "id": "d0ebfd1a",
   "metadata": {},
   "outputs": [
    {
     "data": {
      "text/plain": [
       "array([-1.02926621,  0.82118761])"
      ]
     },
     "execution_count": 184,
     "metadata": {},
     "output_type": "execute_result"
    }
   ],
   "source": [
    "a2[a1>5]"
   ]
  },
  {
   "cell_type": "markdown",
   "id": "7e5ea76a",
   "metadata": {},
   "source": [
    "* Element indexing"
   ]
  },
  {
   "cell_type": "code",
   "execution_count": 187,
   "id": "5e84dfa0",
   "metadata": {},
   "outputs": [
    {
     "data": {
      "text/plain": [
       "array([[4, 6, 4],\n",
       "       [1, 2, 3],\n",
       "       [4, 5, 6]])"
      ]
     },
     "execution_count": 187,
     "metadata": {},
     "output_type": "execute_result"
    }
   ],
   "source": [
    "a1"
   ]
  },
  {
   "cell_type": "code",
   "execution_count": 185,
   "id": "5500c60d",
   "metadata": {},
   "outputs": [
    {
     "data": {
      "text/plain": [
       "array([4, 6, 4])"
      ]
     },
     "execution_count": 185,
     "metadata": {},
     "output_type": "execute_result"
    }
   ],
   "source": [
    "a1[0] #return first row"
   ]
  },
  {
   "cell_type": "code",
   "execution_count": 186,
   "id": "52f5e197",
   "metadata": {},
   "outputs": [
    {
     "data": {
      "text/plain": [
       "array([4, 1, 4])"
      ]
     },
     "execution_count": 186,
     "metadata": {},
     "output_type": "execute_result"
    }
   ],
   "source": [
    "a1[:,0] #first column"
   ]
  },
  {
   "cell_type": "code",
   "execution_count": 189,
   "id": "dd1e15e1",
   "metadata": {},
   "outputs": [
    {
     "data": {
      "text/plain": [
       "array([[1, 2],\n",
       "       [4, 5]])"
      ]
     },
     "execution_count": 189,
     "metadata": {},
     "output_type": "execute_result"
    }
   ],
   "source": [
    "a1[1:,:2]"
   ]
  },
  {
   "cell_type": "markdown",
   "id": "eb9f9639",
   "metadata": {},
   "source": [
    "## Dealing with 2D functions"
   ]
  },
  {
   "cell_type": "markdown",
   "id": "160acdcd",
   "metadata": {},
   "source": [
    "* Function in 2D dimension"
   ]
  },
  {
   "cell_type": "code",
   "execution_count": 200,
   "id": "903d8249",
   "metadata": {},
   "outputs": [
    {
     "data": {
      "text/plain": [
       "array([0.        , 0.01001001, 0.02002002, 0.03003003, 0.04004004])"
      ]
     },
     "execution_count": 200,
     "metadata": {},
     "output_type": "execute_result"
    }
   ],
   "source": [
    "x = np.linspace(0,10,1000)\n",
    "y = np.linspace(0,10,1000)\n",
    "z = x**2 + y**2 #returns 1d array. We would rather a 2d\n",
    "x[:5]"
   ]
  },
  {
   "cell_type": "markdown",
   "id": "9db87ff7",
   "metadata": {},
   "source": [
    "* Need to use mesh grids"
   ]
  },
  {
   "cell_type": "code",
   "execution_count": 211,
   "id": "b7a07d77",
   "metadata": {},
   "outputs": [
    {
     "data": {
      "text/plain": [
       "200.0"
      ]
     },
     "execution_count": 211,
     "metadata": {},
     "output_type": "execute_result"
    }
   ],
   "source": [
    "xv,yv = np.meshgrid(x,y)\n",
    "#xv is x repeated 1000 times as rows\n",
    "#yv is y repeated 1000 times as columns\n",
    "xv.shape # >(1000, 1000)\n",
    "\n",
    "zv = xv**2 + yv**2\n",
    "np.max(zv)"
   ]
  },
  {
   "cell_type": "code",
   "execution_count": 209,
   "id": "f62d6883",
   "metadata": {},
   "outputs": [
    {
     "data": {
      "text/plain": [
       "<matplotlib.colorbar.Colorbar at 0x2a784511190>"
      ]
     },
     "execution_count": 209,
     "metadata": {},
     "output_type": "execute_result"
    },
    {
     "data": {
      "image/png": "[encoded data removed]",
      "text/plain": [
       "<Figure size 432x288 with 2 Axes>"
      ]
     },
     "metadata": {
      "needs_background": "light"
     },
     "output_type": "display_data"
    }
   ],
   "source": [
    "plt.contourf(xv,yv,zv, levels=30)\n",
    "plt.colorbar()"
   ]
  },
  {
   "cell_type": "markdown",
   "id": "09da2e83",
   "metadata": {},
   "source": [
    "## Basic Linear Algebra"
   ]
  },
  {
   "cell_type": "markdown",
   "id": "dd1007cc",
   "metadata": {},
   "source": [
    "**Matrix Operations**"
   ]
  },
  {
   "cell_type": "code",
   "execution_count": 214,
   "id": "35892193",
   "metadata": {},
   "outputs": [],
   "source": [
    "A = np.array([[3,2,1],[5,-5,4],[6,0,1]])\n",
    "b1 = np.array([1,2,3])\n",
    "b2 = np.array([-1,2,-5])"
   ]
  },
  {
   "cell_type": "code",
   "execution_count": 216,
   "id": "d69a15a5",
   "metadata": {},
   "outputs": [
    {
     "data": {
      "text/plain": [
       "array([[ 3,  2,  1],\n",
       "       [ 5, -5,  4],\n",
       "       [ 6,  0,  1]])"
      ]
     },
     "execution_count": 216,
     "metadata": {},
     "output_type": "execute_result"
    }
   ],
   "source": [
    "A"
   ]
  },
  {
   "cell_type": "code",
   "execution_count": 217,
   "id": "db29bdb2",
   "metadata": {},
   "outputs": [
    {
     "data": {
      "text/plain": [
       "array([1, 2, 3])"
      ]
     },
     "execution_count": 217,
     "metadata": {},
     "output_type": "execute_result"
    }
   ],
   "source": [
    "b1"
   ]
  },
  {
   "cell_type": "code",
   "execution_count": 218,
   "id": "819fbe17",
   "metadata": {},
   "outputs": [
    {
     "data": {
      "text/plain": [
       "array([10,  7,  9])"
      ]
     },
     "execution_count": 218,
     "metadata": {},
     "output_type": "execute_result"
    }
   ],
   "source": [
    "A@b1 #matrix product"
   ]
  },
  {
   "cell_type": "code",
   "execution_count": 221,
   "id": "b4b8574c",
   "metadata": {},
   "outputs": [
    {
     "data": {
      "text/plain": [
       "array([[ 3,  5,  6],\n",
       "       [ 2, -5,  0],\n",
       "       [ 1,  4,  1]])"
      ]
     },
     "execution_count": 221,
     "metadata": {},
     "output_type": "execute_result"
    }
   ],
   "source": [
    "A.T #transpose the matrix"
   ]
  },
  {
   "cell_type": "code",
   "execution_count": 223,
   "id": "f749c89e",
   "metadata": {},
   "outputs": [
    {
     "data": {
      "text/plain": [
       "-12"
      ]
     },
     "execution_count": 223,
     "metadata": {},
     "output_type": "execute_result"
    }
   ],
   "source": [
    "np.dot(b1,b2) # sum(b1*b2)"
   ]
  },
  {
   "cell_type": "code",
   "execution_count": 224,
   "id": "768e5db2",
   "metadata": {},
   "outputs": [
    {
     "data": {
      "text/plain": [
       "array([-16,   2,   4])"
      ]
     },
     "execution_count": 224,
     "metadata": {},
     "output_type": "execute_result"
    }
   ],
   "source": [
    "np.cross(b1,b2)"
   ]
  },
  {
   "cell_type": "markdown",
   "id": "fe0e9e2d",
   "metadata": {},
   "source": [
    "Let a et b two vectors: a = (ax,by,bz) and b = (bx,by,bz)\n",
    "let c=(cx,cy,cz) be the cross product of a and b\n",
    "When a and b start at the origin point (0,0,0), the Cross Product will end at:\n",
    "\n",
    "    cx = aybz − azby\n",
    "    cy = azbx − axbz\n",
    "    cz = axby − aybx\n"
   ]
  },
  {
   "cell_type": "markdown",
   "id": "da092a95",
   "metadata": {},
   "source": [
    "**Systems of Equations**"
   ]
  },
  {
   "cell_type": "markdown",
   "id": "b8b21634",
   "metadata": {},
   "source": [
    "$3x + 2y + z = 4$\\\n",
    "$5x - 5y + 4z = 3$\\\n",
    "$6x +  z = 0$\n",
    "\n",
    "The goal is to determine the b vector in the following equation: $Axb=c$"
   ]
  },
  {
   "cell_type": "code",
   "execution_count": 236,
   "id": "c31b7a92",
   "metadata": {},
   "outputs": [],
   "source": [
    "A = np.array([[3,2,1],[5,-5,4],[6,0,1]])\n",
    "c= np.array([4,3,0])"
   ]
  },
  {
   "cell_type": "code",
   "execution_count": 237,
   "id": "ef7b8825",
   "metadata": {},
   "outputs": [
    {
     "data": {
      "text/plain": [
       "array([[ 3,  2,  1],\n",
       "       [ 5, -5,  4],\n",
       "       [ 6,  0,  1]])"
      ]
     },
     "execution_count": 237,
     "metadata": {},
     "output_type": "execute_result"
    }
   ],
   "source": [
    "A"
   ]
  },
  {
   "cell_type": "code",
   "execution_count": 238,
   "id": "b37733e0",
   "metadata": {},
   "outputs": [
    {
     "data": {
      "text/plain": [
       "array([4, 3, 0])"
      ]
     },
     "execution_count": 238,
     "metadata": {},
     "output_type": "execute_result"
    }
   ],
   "source": [
    "c"
   ]
  },
  {
   "cell_type": "code",
   "execution_count": 240,
   "id": "f565ccd9",
   "metadata": {},
   "outputs": [
    {
     "data": {
      "text/plain": [
       "array([-0.49056604,  1.26415094,  2.94339623])"
      ]
     },
     "execution_count": 240,
     "metadata": {},
     "output_type": "execute_result"
    }
   ],
   "source": [
    "b = np.linalg.solve(A,c)\n",
    "b"
   ]
  },
  {
   "cell_type": "code",
   "execution_count": 243,
   "id": "4edafe17",
   "metadata": {},
   "outputs": [
    {
     "name": "stdout",
     "output_type": "stream",
     "text": [
      "x:  -0.490566037735849\n",
      "y:  1.2641509433962266\n",
      "z:  2.943396226415094\n"
     ]
    }
   ],
   "source": [
    "x,y,z = b\n",
    "print('x: ',x)\n",
    "print('y: ',y)\n",
    "print('z: ',z)"
   ]
  },
  {
   "cell_type": "markdown",
   "id": "bca2d341",
   "metadata": {},
   "source": [
    "**Finding Eigenvalues**"
   ]
  },
  {
   "cell_type": "code",
   "execution_count": null,
   "id": "40ee31fa",
   "metadata": {},
   "outputs": [],
   "source": []
  }
 ],
 "metadata": {
  "kernelspec": {
   "display_name": "Python 3 (ipykernel)",
   "language": "python",
   "name": "python3"
  },
  "language_info": {
   "codemirror_mode": {
    "name": "ipython",
    "version": 3
   },
   "file_extension": ".py",
   "mimetype": "text/x-python",
   "name": "python",
   "nbconvert_exporter": "python",
   "pygments_lexer": "ipython3",
   "version": "3.8.2"
  }
 },
 "nbformat": 4,
 "nbformat_minor": 5
}
