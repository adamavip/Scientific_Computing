{
 "cells": [
  {
   "cell_type": "markdown",
   "id": "5b73d461",
   "metadata": {},
   "source": [
    "![](img/scipy.png)\n",
    "\n",
    " # In this tutorial, we will learn how to perform derivation, solve differential equations, interpolation of data, fitting data to a function, integration and differentiation, linear algebra to save complex data and statistics to generate random number using different statistical distributions"
   ]
  },
  {
   "cell_type": "code",
   "execution_count": 1,
   "id": "501aea92",
   "metadata": {},
   "outputs": [],
   "source": [
    "import numpy as np\n",
    "import matplotlib.pyplot as plt\n",
    "import scipy as sp"
   ]
  },
  {
   "cell_type": "markdown",
   "id": "d9220dc0",
   "metadata": {},
   "source": [
    "## Basic"
   ]
  },
  {
   "cell_type": "markdown",
   "id": "25550dac",
   "metadata": {},
   "source": [
    "**Optimization**"
   ]
  },
  {
   "cell_type": "code",
   "execution_count": 2,
   "id": "83b4275e",
   "metadata": {},
   "outputs": [],
   "source": [
    "from scipy.optimize import minimize"
   ]
  },
  {
   "cell_type": "markdown",
   "id": "b6b1c22f",
   "metadata": {},
   "source": [
    "Minimize $f(x) = (x-3)^2$"
   ]
  },
  {
   "cell_type": "code",
   "execution_count": 4,
   "id": "cb9b6d05",
   "metadata": {},
   "outputs": [],
   "source": [
    "def f(x):\n",
    "    return (x-3)**2\n",
    "\n",
    "res = minimize(f,0)"
   ]
  },
  {
   "cell_type": "code",
   "execution_count": 5,
   "id": "fc9f6531",
   "metadata": {},
   "outputs": [
    {
     "data": {
      "text/plain": [
       "      fun: 2.5388963550532293e-16\n",
       " hess_inv: array([[0.5]])\n",
       "      jac: array([-1.69666681e-08])\n",
       "  message: 'Optimization terminated successfully.'\n",
       "     nfev: 6\n",
       "      nit: 2\n",
       "     njev: 3\n",
       "   status: 0\n",
       "  success: True\n",
       "        x: array([2.99999998])"
      ]
     },
     "execution_count": 5,
     "metadata": {},
     "output_type": "execute_result"
    }
   ],
   "source": [
    "res"
   ]
  },
  {
   "cell_type": "code",
   "execution_count": 6,
   "id": "8e62cdba",
   "metadata": {},
   "outputs": [
    {
     "data": {
      "text/plain": [
       "array([2.99999998])"
      ]
     },
     "execution_count": 6,
     "metadata": {},
     "output_type": "execute_result"
    }
   ],
   "source": [
    "# x value that minize f \n",
    "res.x"
   ]
  },
  {
   "cell_type": "markdown",
   "id": "e924801e",
   "metadata": {},
   "source": [
    "Minimize $f(x,y) = (x-1)^2 + (y-2.5)^2$ subject to  \n",
    "\n",
    "$\n",
    "\\begin{cases}\n",
    "x-2y+2\\ge 0\\\\\n",
    "-x-2y+6\\ge 0\\\\\n",
    "-x+2y+2\\ge 0\\\\\n",
    "x\\ge 0\\\\\n",
    "y\\ge 0\\\\\n",
    "\\end{cases}\n",
    "$\n",
    "\n"
   ]
  },
  {
   "cell_type": "code",
   "execution_count": 21,
   "id": "c4af8e8c",
   "metadata": {},
   "outputs": [],
   "source": [
    "f = lambda x: ((x[0]-1)**2 + (x[1]-2.5)**2)\n",
    "cons = ({'type':'ineq', 'fun':lambda x: x[0]-2*[1]+2},\n",
    "        {'type':'ineq', 'fun':lambda x: -x[0]-2*[1]+6},\n",
    "        {'type':'ineq', 'fun':lambda x: -x[0]+2*[1]+2})\n",
    "\n",
    "bounds = ((0,None),(0,None)) # None means unbounded x and y goes from 0 to infinity"
   ]
  },
  {
   "cell_type": "code",
   "execution_count": 22,
   "id": "51abc74f",
   "metadata": {},
   "outputs": [],
   "source": [
    "res = minimize(f,[2,0], bounds=bounds, constraints=cons)"
   ]
  },
  {
   "cell_type": "code",
   "execution_count": 23,
   "id": "339cea82",
   "metadata": {},
   "outputs": [
    {
     "data": {
      "text/plain": [
       "     fun: 0.0\n",
       "     jac: array([1.49011612e-08, 1.49011612e-08])\n",
       " message: 'Optimization terminated successfully'\n",
       "    nfev: 7\n",
       "     nit: 2\n",
       "    njev: 2\n",
       "  status: 0\n",
       " success: True\n",
       "       x: array([1. , 2.5])"
      ]
     },
     "execution_count": 23,
     "metadata": {},
     "output_type": "execute_result"
    }
   ],
   "source": [
    "res"
   ]
  },
  {
   "cell_type": "code",
   "execution_count": 24,
   "id": "1ed23b36",
   "metadata": {},
   "outputs": [
    {
     "data": {
      "text/plain": [
       "array([1. , 2.5])"
      ]
     },
     "execution_count": 24,
     "metadata": {},
     "output_type": "execute_result"
    }
   ],
   "source": [
    "# x and y values that minimize f\n",
    "res.x"
   ]
  },
  {
   "cell_type": "markdown",
   "id": "f66d4a79",
   "metadata": {},
   "source": [
    "## Interpolation\n",
    "\n",
    "Suppose you haeve the following data (I generate here, but perhaps you collect x and y by means of some experiment)"
   ]
  },
  {
   "cell_type": "code",
   "execution_count": 25,
   "id": "3ab8f4fd",
   "metadata": {},
   "outputs": [
    {
     "data": {
      "text/plain": [
       "<matplotlib.collections.PathCollection at 0x263f9518c40>"
      ]
     },
     "execution_count": 25,
     "metadata": {},
     "output_type": "execute_result"
    },
    {
     "data": {
      "image/png": "[encoded data removed]",
      "text/plain": [
       "<Figure size 432x288 with 1 Axes>"
      ]
     },
     "metadata": {
      "needs_background": "light"
     },
     "output_type": "display_data"
    }
   ],
   "source": [
    "x = np.linspace(0,10,10)\n",
    "y = x**2 * np.sin(x)\n",
    "plt.scatter(x,y)"
   ]
  },
  {
   "cell_type": "markdown",
   "id": "32542b03",
   "metadata": {},
   "source": [
    "You want to know the values in between"
   ]
  },
  {
   "cell_type": "code",
   "execution_count": 26,
   "id": "85306400",
   "metadata": {},
   "outputs": [],
   "source": [
    "from scipy.interpolate import interp1d"
   ]
  },
  {
   "cell_type": "code",
   "execution_count": 29,
   "id": "005965e7",
   "metadata": {},
   "outputs": [],
   "source": [
    "f = interp1d(x,y, kind='cubic')\n",
    "x_dense = np.linspace(0,10,100)\n",
    "y_dense = f(x_dense)"
   ]
  },
  {
   "cell_type": "code",
   "execution_count": 33,
   "id": "9687f784",
   "metadata": {},
   "outputs": [
    {
     "data": {
      "image/png": "[encoded data removed]",
      "text/plain": [
       "<Figure size 432x288 with 1 Axes>"
      ]
     },
     "metadata": {
      "needs_background": "light"
     },
     "output_type": "display_data"
    }
   ],
   "source": [
    "plt.scatter(x,y,label='original')\n",
    "plt.plot(x_dense,y_dense,label='interpolation')\n",
    "plt.legend()\n",
    "plt.show()"
   ]
  },
  {
   "cell_type": "markdown",
   "id": "63584993",
   "metadata": {},
   "source": [
    "## Curve fitting\n",
    "\n",
    "Trivial example"
   ]
  },
  {
   "cell_type": "code",
   "execution_count": 35,
   "id": "edb2c0bf",
   "metadata": {},
   "outputs": [],
   "source": [
    "x_data = np.linspace(0,10,10)\n",
    "y_data = 3*x_data**2 + 2"
   ]
  },
  {
   "cell_type": "code",
   "execution_count": 36,
   "id": "41250302",
   "metadata": {},
   "outputs": [
    {
     "data": {
      "text/plain": [
       "<matplotlib.collections.PathCollection at 0x263fe745370>"
      ]
     },
     "execution_count": 36,
     "metadata": {},
     "output_type": "execute_result"
    },
    {
     "data": {
      "image/png": "[encoded data removed]",
      "text/plain": [
       "<Figure size 432x288 with 1 Axes>"
      ]
     },
     "metadata": {
      "needs_background": "light"
     },
     "output_type": "display_data"
    }
   ],
   "source": [
    "plt.scatter(x_data,y_data)"
   ]
  },
  {
   "cell_type": "markdown",
   "id": "4121ac94",
   "metadata": {},
   "source": [
    "Want to fit the data to the curve $y=ax^2 + b$. The main goal here is to determine the values $a$ et $b$."
   ]
  },
  {
   "cell_type": "code",
   "execution_count": 37,
   "id": "7be0d58b",
   "metadata": {},
   "outputs": [],
   "source": [
    "from scipy.optimize import curve_fit\n",
    "\n",
    "def fun(x,a,b):\n",
    "    return a*x**2 + b\n",
    "\n",
    "popt, pcov = curve_fit(fun, x_data, y_data, p0=(1,1)) #pcov represent the covariances, i.e the errors of the parameters during the fitting process"
   ]
  },
  {
   "cell_type": "code",
   "execution_count": 38,
   "id": "61c86e9e",
   "metadata": {},
   "outputs": [
    {
     "data": {
      "text/plain": [
       "array([3., 2.])"
      ]
     },
     "execution_count": 38,
     "metadata": {},
     "output_type": "execute_result"
    }
   ],
   "source": [
    "# Optimal parameters a,b\n",
    "popt"
   ]
  },
  {
   "cell_type": "code",
   "execution_count": 45,
   "id": "e11be48b",
   "metadata": {},
   "outputs": [],
   "source": [
    "t_data = np.array([ 0.  ,  0.34482759,  0.68965517,  1.03448276,  1.37931034,\n",
    "        1.72413793,  2.06896552,  2.4137931 ,  2.75862069,  3.10344828,\n",
    "        3.44827586,  3.79310345,  4.13793103,  4.48275862,  4.82758621,\n",
    "        5.17241379,  5.51724138,  5.86206897,  6.20689655,  6.55172414,\n",
    "        6.89655172,  7.24137931,  7.5862069 ,  7.93103448,  8.27586207,\n",
    "        8.62068966,  8.96551724,  9.31034483,  9.65517241, 10.])\n",
    "\n",
    "y_data = np.array([ 3.98001666,  1.51145725, -2.56405793, -3.91351007, -1.1021844 ,\n",
    "        2.88096516,  3.80112114,  0.67998934, -3.1640957 , -3.64416754,\n",
    "       -0.24982201,  3.41013011,  3.44448947, -0.18327424, -3.61618387,\n",
    "       -3.20442785,  0.61422178,  3.77984116,  2.92679724, -1.03796812,\n",
    "       -3.89918325, -2.61485261,  1.44954524,  3.97281101,  2.27225122,\n",
    "       -1.84412776, -3.9998612 , -1.90300976,  2.21708946,  3.98001666])"
   ]
  },
  {
   "cell_type": "code",
   "execution_count": 46,
   "id": "ef5ebb64",
   "metadata": {},
   "outputs": [
    {
     "data": {
      "text/plain": [
       "[<matplotlib.lines.Line2D at 0x263feb76460>]"
      ]
     },
     "execution_count": 46,
     "metadata": {},
     "output_type": "execute_result"
    },
    {
     "data": {
      "image/png": "[encoded data removed]",
      "text/plain": [
       "<Figure size 432x288 with 1 Axes>"
      ]
     },
     "metadata": {
      "needs_background": "light"
     },
     "output_type": "display_data"
    }
   ],
   "source": [
    "plt.plot(t_data,y_data,'o-')"
   ]
  },
  {
   "cell_type": "markdown",
   "id": "5b95e84a",
   "metadata": {},
   "source": [
    "$\\omega=2\\pi f, f=\\dfrac{1}{T}$ and $T=2$ seconds. Thus good initial guess is\n",
    "* $\\omega=2\\pi(1/2)=\\pi$\n",
    "* A = 4\n",
    "* $\\phi=0$"
   ]
  },
  {
   "cell_type": "code",
   "execution_count": 47,
   "id": "2278a1f6",
   "metadata": {},
   "outputs": [],
   "source": [
    "def func(x, A, w, phi):\n",
    "    return A * np.cos(w*x+phi)\n",
    "\n",
    "popt, pcov = curve_fit(func,t_data, y_data, p0=(4,np.pi,0))"
   ]
  },
  {
   "cell_type": "code",
   "execution_count": 59,
   "id": "1c58f425",
   "metadata": {},
   "outputs": [],
   "source": [
    "A, w, phi = popt"
   ]
  },
  {
   "cell_type": "code",
   "execution_count": 51,
   "id": "af3316ee",
   "metadata": {},
   "outputs": [],
   "source": [
    "t = np.linspace(0,10,100)\n",
    "y = func(t, A, w, phi)"
   ]
  },
  {
   "cell_type": "code",
   "execution_count": 53,
   "id": "0a8e6c4b",
   "metadata": {},
   "outputs": [
    {
     "data": {
      "text/plain": [
       "[<matplotlib.lines.Line2D at 0x263802e1760>]"
      ]
     },
     "execution_count": 53,
     "metadata": {},
     "output_type": "execute_result"
    },
    {
     "data": {
      "image/png": "[encoded data removed]",
      "text/plain": [
       "<Figure size 432x288 with 1 Axes>"
      ]
     },
     "metadata": {
      "needs_background": "light"
     },
     "output_type": "display_data"
    }
   ],
   "source": [
    "plt.scatter(t_data, y_data)\n",
    "plt.plot(t, y)"
   ]
  },
  {
   "cell_type": "markdown",
   "id": "57f0b117",
   "metadata": {},
   "source": [
    "The parameters"
   ]
  },
  {
   "cell_type": "code",
   "execution_count": 58,
   "id": "9bfa3238",
   "metadata": {},
   "outputs": [
    {
     "data": {
      "text/plain": [
       "array([4.        , 3.14159265, 0.1       ])"
      ]
     },
     "execution_count": 58,
     "metadata": {},
     "output_type": "execute_result"
    }
   ],
   "source": [
    "popt"
   ]
  },
  {
   "cell_type": "code",
   "execution_count": 54,
   "id": "ac1436ed",
   "metadata": {},
   "outputs": [
    {
     "data": {
      "text/plain": [
       "array([[ 5.67938156e-19, -1.53122402e-21,  8.60036226e-21],\n",
       "       [-1.53122402e-21,  4.57099325e-21, -2.27746449e-20],\n",
       "       [ 8.60036226e-21, -2.27746449e-20,  1.51332554e-19]])"
      ]
     },
     "execution_count": 54,
     "metadata": {},
     "output_type": "execute_result"
    }
   ],
   "source": [
    "# The errors on the parameters are given by the diagonal of pcov matrix\n",
    "pcov"
   ]
  },
  {
   "cell_type": "code",
   "execution_count": 56,
   "id": "0a6f991e",
   "metadata": {},
   "outputs": [],
   "source": [
    "# Variances on A, w and phi \n",
    "v = np.diag(pcov)"
   ]
  },
  {
   "cell_type": "markdown",
   "id": "adc94220",
   "metadata": {},
   "source": [
    "The estimated errors on the parameters"
   ]
  },
  {
   "cell_type": "code",
   "execution_count": 57,
   "id": "3a6c13bd",
   "metadata": {},
   "outputs": [
    {
     "data": {
      "text/plain": [
       "array([7.53616717e-10, 6.76091211e-11, 3.89014850e-10])"
      ]
     },
     "execution_count": 57,
     "metadata": {},
     "output_type": "execute_result"
    }
   ],
   "source": [
    "# Standard deviations or erros on parameters\n",
    "np.sqrt(v)"
   ]
  },
  {
   "cell_type": "markdown",
   "id": "0cb22eee",
   "metadata": {},
   "source": [
    "## Calculus"
   ]
  },
  {
   "cell_type": "markdown",
   "id": "4de7807a",
   "metadata": {},
   "source": [
    "**Differentiation**"
   ]
  },
  {
   "cell_type": "code",
   "execution_count": 61,
   "id": "f8fd30ef",
   "metadata": {},
   "outputs": [],
   "source": [
    "from scipy.misc import derivative"
   ]
  },
  {
   "cell_type": "code",
   "execution_count": 62,
   "id": "22d7fb2d",
   "metadata": {},
   "outputs": [],
   "source": [
    "def f(x):\n",
    "    return x**2 * np.sin(2*x) * np.exp(-x)\n",
    "x = np.linspace(0,1,100)"
   ]
  },
  {
   "cell_type": "code",
   "execution_count": 67,
   "id": "60d55390",
   "metadata": {},
   "outputs": [
    {
     "data": {
      "text/plain": [
       "[<matplotlib.lines.Line2D at 0x26380475e50>]"
      ]
     },
     "execution_count": 67,
     "metadata": {},
     "output_type": "execute_result"
    },
    {
     "data": {
      "image/png": "[encoded data removed]",
      "text/plain": [
       "<Figure size 432x288 with 1 Axes>"
      ]
     },
     "metadata": {
      "needs_background": "light"
     },
     "output_type": "display_data"
    }
   ],
   "source": [
    "plt.plot(x,f(x))\n",
    "plt.plot(x,derivative(f,x,dx=1e-6))\n",
    "plt.plot(x,derivative(f,x,dx=1e-6,n=2)) #get second derivative"
   ]
  },
  {
   "cell_type": "markdown",
   "id": "8cbae5fa",
   "metadata": {},
   "source": [
    "**Integration**"
   ]
  },
  {
   "cell_type": "markdown",
   "id": "4851a25a",
   "metadata": {},
   "source": [
    "Single integrals       "
   ]
  },
  {
   "cell_type": "markdown",
   "id": "2ce56049",
   "metadata": {},
   "source": [
    " <center>\n",
    " $ \\int_0^1 \\sin(2x)e^{-x} dx$\n",
    " </center>\n",
    " \n"
   ]
  },
  {
   "cell_type": "code",
   "execution_count": 73,
   "id": "2da31d3b",
   "metadata": {},
   "outputs": [],
   "source": [
    "from scipy.integrate import quad"
   ]
  },
  {
   "cell_type": "code",
   "execution_count": 69,
   "id": "b9193774",
   "metadata": {},
   "outputs": [],
   "source": [
    "integrand = lambda x: np.sin(2*x) * np.exp(-x)\n",
    "integral, integral_error = quad(integrand, 0, 1)"
   ]
  },
  {
   "cell_type": "code",
   "execution_count": 71,
   "id": "5c274064",
   "metadata": {},
   "outputs": [
    {
     "data": {
      "text/plain": [
       "0.3943343804218381"
      ]
     },
     "execution_count": 71,
     "metadata": {},
     "output_type": "execute_result"
    }
   ],
   "source": [
    "integral"
   ]
  },
  {
   "cell_type": "code",
   "execution_count": 72,
   "id": "105d4f7b",
   "metadata": {},
   "outputs": [
    {
     "data": {
      "text/plain": [
       "4.377991085456202e-15"
      ]
     },
     "execution_count": 72,
     "metadata": {},
     "output_type": "execute_result"
    }
   ],
   "source": [
    "integral_error"
   ]
  },
  {
   "cell_type": "markdown",
   "id": "4cfd298f",
   "metadata": {},
   "source": [
    "Double integrals"
   ]
  },
  {
   "cell_type": "markdown",
   "id": "cf108148",
   "metadata": {},
   "source": [
    " <center>\n",
    " $ \\int_0^1 \\int_{-x}^{x^2} \\sin(x+y^2) dydx$\n",
    " </center>"
   ]
  },
  {
   "cell_type": "code",
   "execution_count": 74,
   "id": "7fca39d2",
   "metadata": {},
   "outputs": [],
   "source": [
    "from scipy.integrate import dblquad"
   ]
  },
  {
   "cell_type": "code",
   "execution_count": 75,
   "id": "5722e9a3",
   "metadata": {},
   "outputs": [],
   "source": [
    "integrand = lambda x,y: np.sin(x+y**2)\n",
    "lwr_y = lambda x:-x\n",
    "upr_y = lambda x:x**2\n",
    "integral, integral_error = dblquad(integrand, 0, 1,lwr_y,upr_y)"
   ]
  },
  {
   "cell_type": "code",
   "execution_count": 76,
   "id": "5f8c8e06",
   "metadata": {},
   "outputs": [
    {
     "data": {
      "text/plain": [
       "0.315802507240474"
      ]
     },
     "execution_count": 76,
     "metadata": {},
     "output_type": "execute_result"
    }
   ],
   "source": [
    "integral"
   ]
  },
  {
   "cell_type": "code",
   "execution_count": 77,
   "id": "e14916af",
   "metadata": {},
   "outputs": [
    {
     "data": {
      "text/plain": [
       "1.5634600713498928e-14"
      ]
     },
     "execution_count": 77,
     "metadata": {},
     "output_type": "execute_result"
    }
   ],
   "source": [
    "integral_error"
   ]
  },
  {
   "cell_type": "markdown",
   "id": "94cf80d8",
   "metadata": {},
   "source": [
    "## Differential Equations"
   ]
  },
  {
   "cell_type": "markdown",
   "id": "0ffc83ca",
   "metadata": {},
   "source": [
    "**First Order ODEs**"
   ]
  },
  {
   "cell_type": "markdown",
   "id": "d569704e",
   "metadata": {},
   "source": [
    "Air friction while failing"
   ]
  },
  {
   "cell_type": "markdown",
   "id": "7812de43",
   "metadata": {},
   "source": [
    "<center>\n",
    "    $v\\prime - \\alpha v^2 + \\beta = 0$  $v(0) = 0$\n",
    "</center>    "
   ]
  },
  {
   "cell_type": "code",
   "execution_count": 78,
   "id": "ad976778",
   "metadata": {},
   "outputs": [],
   "source": [
    "from scipy.integrate import odeint"
   ]
  },
  {
   "cell_type": "markdown",
   "id": "de2050f6",
   "metadata": {},
   "source": [
    "All information about differential equation"
   ]
  },
  {
   "cell_type": "code",
   "execution_count": 79,
   "id": "ce1c657d",
   "metadata": {},
   "outputs": [],
   "source": [
    "def dvdt(v,t):\n",
    "    return 3*v**2 - 5\n",
    "v0=0"
   ]
  },
  {
   "cell_type": "markdown",
   "id": "c1aeb681",
   "metadata": {},
   "source": [
    "Solve differential equation"
   ]
  },
  {
   "cell_type": "code",
   "execution_count": 80,
   "id": "fd13e969",
   "metadata": {},
   "outputs": [],
   "source": [
    "t = np.linspace(0,1,100)\n",
    "sol = odeint(dvdt,v0,t)"
   ]
  },
  {
   "cell_type": "code",
   "execution_count": 83,
   "id": "10a30dde",
   "metadata": {},
   "outputs": [
    {
     "data": {
      "text/plain": [
       "array([[ 0.        , -0.05047933, -0.10080451, -0.15082334, -0.20038726,\n",
       "        -0.24935318, -0.29758502, -0.34495519, -0.39134576, -0.43664948,\n",
       "        -0.48077056, -0.52362515, -0.56514164, -0.60526086, -0.6439356 ,\n",
       "        -0.68113064, -0.71682205, -0.75099661, -0.78365109, -0.8147914 ,\n",
       "        -0.84443176, -0.87259378, -0.89930556, -0.92460079, -0.94851787,\n",
       "        -0.97109913, -0.99239002, -1.01243837, -1.03129376, -1.04900692,\n",
       "        -1.06562918, -1.081212  , -1.0958066 , -1.10946355, -1.12223249,\n",
       "        -1.13416195, -1.14529906, -1.15568941, -1.16537698, -1.17440397,\n",
       "        -1.18281086, -1.19063623, -1.19791686, -1.20468768, -1.21098179,\n",
       "        -1.21683053, -1.22226349, -1.22730856, -1.23199199, -1.23633849,\n",
       "        -1.24037122, -1.24411192, -1.24758094, -1.25079735, -1.25377896,\n",
       "        -1.25654241, -1.25910322, -1.2614759 , -1.26367394, -1.26570992,\n",
       "        -1.26759557, -1.26934179, -1.27095869, -1.27245574, -1.27384168,\n",
       "        -1.27512464, -1.2763122 , -1.27741137, -1.27842865, -1.27937009,\n",
       "        -1.28024128, -1.28104744, -1.28179338, -1.28248356, -1.28312213,\n",
       "        -1.28371292, -1.2842595 , -1.28476514, -1.2852329 , -1.28566562,\n",
       "        -1.2860659 , -1.28643616, -1.28677865, -1.28709545, -1.28738847,\n",
       "        -1.28765951, -1.28791021, -1.28814208, -1.28835653, -1.28855487,\n",
       "        -1.28873831, -1.28890797, -1.28906488, -1.28920999, -1.2893442 ,\n",
       "        -1.28946833, -1.28958312, -1.28968929, -1.28978746, -1.28987826]])"
      ]
     },
     "execution_count": 83,
     "metadata": {},
     "output_type": "execute_result"
    }
   ],
   "source": [
    "sol.T # shape: (1,100)"
   ]
  },
  {
   "cell_type": "code",
   "execution_count": 85,
   "id": "db9fd7a2",
   "metadata": {},
   "outputs": [
    {
     "data": {
      "text/plain": [
       "[<matplotlib.lines.Line2D at 0x2638075a730>]"
      ]
     },
     "execution_count": 85,
     "metadata": {},
     "output_type": "execute_result"
    },
    {
     "data": {
      "image/png": "[encoded data removed]",
      "text/plain": [
       "<Figure size 432x288 with 1 Axes>"
      ]
     },
     "metadata": {
      "needs_background": "light"
     },
     "output_type": "display_data"
    }
   ],
   "source": [
    "plt.plot(t,sol.T[0])"
   ]
  },
  {
   "cell_type": "markdown",
   "id": "d16b3209",
   "metadata": {},
   "source": [
    "**Coupled fist order ODEs**"
   ]
  },
  {
   "cell_type": "markdown",
   "id": "699081ff",
   "metadata": {},
   "source": [
    "<center>\n",
    "$ y_1^{'} = y_1 + y_2^2 +3x \\qquad y_1(0)=0 $ <br />\n",
    "$y_2^{'} = 3y_1 + y_2^3 -\\cos(x) \\qquad y_2(0)=0$ <br />\n",
    "</center>\n",
    "\n",
    "Letting S =($y_1,y_2$) we need to write a function that returns $dS/dx = (dy_1/dx,dy_2/dx)$\n"
   ]
  },
  {
   "cell_type": "code",
   "execution_count": 86,
   "id": "174ad5ae",
   "metadata": {},
   "outputs": [],
   "source": [
    "def dSdx(S,x):\n",
    "    y1,y2 = S\n",
    "    return [y1+y2**2+3*x,\n",
    "           3*y1+y2**3-np.cos(x)]\n",
    "y1_0 =0\n",
    "y2_0 =0\n",
    "S_0 = (y1_0,y2_0)"
   ]
  },
  {
   "cell_type": "code",
   "execution_count": 87,
   "id": "03fa7ad7",
   "metadata": {},
   "outputs": [],
   "source": [
    "x = np.linspace(0,1,1000)\n",
    "solv = odeint(dSdx,S_0,x)"
   ]
  },
  {
   "cell_type": "code",
   "execution_count": 90,
   "id": "5ebb8dca",
   "metadata": {},
   "outputs": [
    {
     "data": {
      "text/plain": [
       "(1000, 2)"
      ]
     },
     "execution_count": 90,
     "metadata": {},
     "output_type": "execute_result"
    }
   ],
   "source": [
    "solv.shape"
   ]
  },
  {
   "cell_type": "code",
   "execution_count": 91,
   "id": "40d41fa9",
   "metadata": {},
   "outputs": [],
   "source": [
    "y1, y2 = solv.T"
   ]
  },
  {
   "cell_type": "code",
   "execution_count": 93,
   "id": "c341371d",
   "metadata": {},
   "outputs": [
    {
     "data": {
      "text/plain": [
       "[<matplotlib.lines.Line2D at 0x263807fed00>]"
      ]
     },
     "execution_count": 93,
     "metadata": {},
     "output_type": "execute_result"
    },
    {
     "data": {
      "image/png": "[encoded data removed]",
      "text/plain": [
       "<Figure size 432x288 with 1 Axes>"
      ]
     },
     "metadata": {
      "needs_background": "light"
     },
     "output_type": "display_data"
    }
   ],
   "source": [
    "plt.plot(x,y1)\n",
    "plt.plot(x,y2)"
   ]
  },
  {
   "cell_type": "markdown",
   "id": "362e70a6",
   "metadata": {},
   "source": [
    "**Second Order ODEs**"
   ]
  },
  {
   "cell_type": "markdown",
   "id": "db2bd3fc",
   "metadata": {},
   "source": [
    "Equation for a pendulum <br />\n",
    "<center>\n",
    "    $\\theta^{''} - \\sin(\\theta) = 0$"
   ]
  },
  {
   "cell_type": "markdown",
   "id": "23909805",
   "metadata": {},
   "source": [
    "Scipy can only solve coupled first order ODEs, but any **second order ODE can be turned into two coupled first order ODEs**.The same thing goes for higher order ODEs."
   ]
  },
  {
   "cell_type": "markdown",
   "id": "e0978080",
   "metadata": {},
   "source": [
    "Define $\\omega = d\\theta/dt$ so that one has the following coupled ODEs. \n",
    "\n",
    "\n",
    "<center>\n",
    "    $d\\omega/dt =\\sin(\\theta)$<br/>\n",
    "    $d\\theta/dt = \\omega$\n",
    "</center>\n",
    "\n",
    "Let $S=(\\theta,\\omega)$"
   ]
  },
  {
   "cell_type": "code",
   "execution_count": 94,
   "id": "57c5c9dd",
   "metadata": {},
   "outputs": [],
   "source": [
    "def dSdx(S,t):\n",
    "    theta,omega = S\n",
    "    return [omega, np.sin(theta)]"
   ]
  },
  {
   "cell_type": "code",
   "execution_count": 99,
   "id": "a538bb52",
   "metadata": {},
   "outputs": [],
   "source": [
    "theta_0 =np.pi/4\n",
    "omega_0 = 0\n",
    "S_0 = (theta_0,omega_0)"
   ]
  },
  {
   "cell_type": "code",
   "execution_count": 100,
   "id": "08e304c6",
   "metadata": {},
   "outputs": [],
   "source": [
    "t = np.linspace(0,20,100)\n",
    "solv = odeint(dSdx,S_0,t)"
   ]
  },
  {
   "cell_type": "code",
   "execution_count": 101,
   "id": "755aab59",
   "metadata": {},
   "outputs": [],
   "source": [
    "theta,omega = solv.T"
   ]
  },
  {
   "cell_type": "code",
   "execution_count": 103,
   "id": "d03f2787",
   "metadata": {},
   "outputs": [
    {
     "data": {
      "text/plain": [
       "[<matplotlib.lines.Line2D at 0x2638084c790>]"
      ]
     },
     "execution_count": 103,
     "metadata": {},
     "output_type": "execute_result"
    },
    {
     "data": {
      "image/png": "[encoded data removed]",
      "text/plain": [
       "<Figure size 432x288 with 1 Axes>"
      ]
     },
     "metadata": {
      "needs_background": "light"
     },
     "output_type": "display_data"
    }
   ],
   "source": [
    "plt.plot(t,theta)\n",
    "#plt.plot(t,omega)"
   ]
  },
  {
   "cell_type": "markdown",
   "id": "550c2875",
   "metadata": {},
   "source": [
    "## Fourier Transforms"
   ]
  },
  {
   "cell_type": "markdown",
   "id": "fad1ce64",
   "metadata": {},
   "source": [
    "The discrete Fourier transform is defined as\n",
    "<center>\n",
    "    <br/>\n",
    "    $y[k] = \\sum_{n=0}^{N-1} e^{-2\\pi i(k/n)} x[n]$\n",
    "</center>\n",
    "\n",
    "* $k/N$ represents a specific frequency (dimensionless)\n",
    "* can be converted to a frequency (Hz) if you know the spacing in $x$"
   ]
  },
  {
   "cell_type": "code",
   "execution_count": 105,
   "id": "8592995c",
   "metadata": {},
   "outputs": [
    {
     "data": {
      "text/plain": [
       "[<matplotlib.lines.Line2D at 0x263807aad60>]"
      ]
     },
     "execution_count": 105,
     "metadata": {},
     "output_type": "execute_result"
    },
    {
     "data": {
      "image/png": "[encoded data removed]",
      "text/plain": [
       "<Figure size 432x288 with 1 Axes>"
      ]
     },
     "metadata": {
      "needs_background": "light"
     },
     "output_type": "display_data"
    }
   ],
   "source": [
    "t = np.linspace(0,10*np.pi, 100)\n",
    "x = np.sin(2*np.pi*t) +np.sin(4*np.pi*t) + 0.1*np.random.random(len(t))\n",
    "plt.plot(t,x)"
   ]
  },
  {
   "cell_type": "code",
   "execution_count": 107,
   "id": "5c24727e",
   "metadata": {},
   "outputs": [],
   "source": [
    "from scipy.fft import fft, fftfreq\n",
    "N = len(x)\n",
    "y = fft(x) #calculates the Fourier transform"
   ]
  },
  {
   "cell_type": "code",
   "execution_count": 109,
   "id": "04981e4d",
   "metadata": {},
   "outputs": [
    {
     "data": {
      "text/plain": [
       "[<matplotlib.lines.Line2D at 0x263807612b0>]"
      ]
     },
     "execution_count": 109,
     "metadata": {},
     "output_type": "execute_result"
    },
    {
     "data": {
      "image/png": "[encoded data removed]",
      "text/plain": [
       "<Figure size 432x288 with 1 Axes>"
      ]
     },
     "metadata": {
      "needs_background": "light"
     },
     "output_type": "display_data"
    }
   ],
   "source": [
    "plt.plot(np.abs(y))"
   ]
  },
  {
   "cell_type": "code",
   "execution_count": 110,
   "id": "cbc29285",
   "metadata": {},
   "outputs": [],
   "source": [
    "#Taking just positive frequencies\n",
    "y = y[:N//2]\n",
    "f = fftfreq(N, np.diff(t)[0])[:N//2]"
   ]
  },
  {
   "cell_type": "code",
   "execution_count": 111,
   "id": "20bf6d6c",
   "metadata": {},
   "outputs": [
    {
     "data": {
      "text/plain": [
       "[<matplotlib.lines.Line2D at 0x2638037c940>]"
      ]
     },
     "execution_count": 111,
     "metadata": {},
     "output_type": "execute_result"
    },
    {
     "data": {
      "image/png": "[encoded data removed]",
      "text/plain": [
       "<Figure size 432x288 with 1 Axes>"
      ]
     },
     "metadata": {
      "needs_background": "light"
     },
     "output_type": "display_data"
    }
   ],
   "source": [
    "plt.plot(f,np.abs(y))"
   ]
  },
  {
   "cell_type": "code",
   "execution_count": null,
   "id": "bf52a5b1",
   "metadata": {},
   "outputs": [],
   "source": []
  }
 ],
 "metadata": {
  "kernelspec": {
   "display_name": "Python 3 (ipykernel)",
   "language": "python",
   "name": "python3"
  },
  "language_info": {
   "codemirror_mode": {
    "name": "ipython",
    "version": 3
   },
   "file_extension": ".py",
   "mimetype": "text/x-python",
   "name": "python",
   "nbconvert_exporter": "python",
   "pygments_lexer": "ipython3",
   "version": "3.8.2"
  }
 },
 "nbformat": 4,
 "nbformat_minor": 5
}
